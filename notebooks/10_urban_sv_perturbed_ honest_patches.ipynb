{
 "cells": [
  {
   "cell_type": "code",
   "execution_count": 1,
   "id": "3cbc7150",
   "metadata": {},
   "outputs": [
    {
     "ename": "ModuleNotFoundError",
     "evalue": "No module named 'google.colab'",
     "output_type": "error",
     "traceback": [
      "\u001b[0;31m---------------------------------------------------------------------------\u001b[0m",
      "\u001b[0;31mModuleNotFoundError\u001b[0m                       Traceback (most recent call last)",
      "\u001b[0;32m/var/folders/q0/m8_cyqvx79g68t6fgn385tm40000gn/T/ipykernel_30155/1408506528.py\u001b[0m in \u001b[0;36m<module>\u001b[0;34m\u001b[0m\n\u001b[0;32m----> 1\u001b[0;31m \u001b[0;32mfrom\u001b[0m \u001b[0mgoogle\u001b[0m\u001b[0;34m.\u001b[0m\u001b[0mcolab\u001b[0m \u001b[0;32mimport\u001b[0m \u001b[0mdrive\u001b[0m\u001b[0;34m\u001b[0m\u001b[0;34m\u001b[0m\u001b[0m\n\u001b[0m\u001b[1;32m      2\u001b[0m \u001b[0mdrive\u001b[0m\u001b[0;34m.\u001b[0m\u001b[0mmount\u001b[0m\u001b[0;34m(\u001b[0m\u001b[0;34m'/content/drive'\u001b[0m\u001b[0;34m)\u001b[0m\u001b[0;34m\u001b[0m\u001b[0;34m\u001b[0m\u001b[0m\n",
      "\u001b[0;31mModuleNotFoundError\u001b[0m: No module named 'google.colab'"
     ]
    }
   ],
   "source": [
    "from google.colab import drive\n",
    "drive.mount('/content/drive')"
   ]
  },
  {
   "cell_type": "code",
   "execution_count": null,
   "id": "593ee61f",
   "metadata": {},
   "outputs": [],
   "source": [
    "import os\n",
    "new_path = '/content/drive/MyDrive/PRIM_HSU'\n",
    "\n",
    "# Установить новый путь в качестве текущей директории\n",
    "os.chdir(new_path)"
   ]
  },
  {
   "cell_type": "code",
   "execution_count": 2,
   "id": "05d345d0",
   "metadata": {},
   "outputs": [],
   "source": [
    "from src.data_processing import HyperspectralImage, PerturbedSVDataPatches, generate_honest_sv_patches\n",
    "from torch.utils.data import DataLoader\n",
    "from src.models import Autoencoder\n",
    "from src.train_utils import train_model\n",
    "from src.conf import BATCH_SIZE\n",
    "from src.loss_functions import balance_loss\n",
    "import matplotlib.pyplot as plt\n",
    "import torch\n",
    "from src.metrics import compare_endmembers, compare_abundances\n",
    "import numpy as np"
   ]
  },
  {
   "cell_type": "code",
   "execution_count": null,
   "id": "fe5b92a2",
   "metadata": {},
   "outputs": [],
   "source": [
    "samson = HyperspectralImage(image_path=\"datasets/samson/samson_1.mat\",\n",
    "                           ground_truth_path=\"datasets/samson/end3.mat\",\n",
    "                           n_bands=156, n_row=95, n_col=95, n_sources=3)\n",
    "\n",
    "X_1_estim = np.load('results/first_estimation/samson_X_1_estim.npy')\n",
    "A_1_estim = np.load('results/first_estimation/samson_A_1_estim.npy')\n",
    "S_1_estim = np.load('results/first_estimation/samson_S_1_estim.npy')\n",
    "\n",
    "generate_honest_sv_patches(samson, A_1_estim, S_1_estim)\n",
    "\n",
    "plt.imshow(urban.X[0])\n",
    "plt.show()\n",
    "\n",
    "pertubed_sv_image_dataset = PerturbedSVDataPatches()\n",
    "\n",
    "\n",
    "pertubed_sv_image_dataloader = DataLoader(dataset=pertubed_sv_image_dataset, batch_size=BATCH_SIZE, shuffle=True)\n",
    "a = next(iter(pertubed_sv_image_dataloader))\n",
    "print('original_image_dataloader', a[\"X\"].shape)\n",
    "plt.imshow(a['X'][0][50])\n",
    "plt.show()"
   ]
  },
  {
   "cell_type": "code",
   "execution_count": null,
   "id": "361c58c1",
   "metadata": {},
   "outputs": [],
   "source": [
    "model = Autoencoder(channel_number=urban.n_bands, source_number=urban.n_sources)\n",
    "model, loss_train = train_model(model, samson.X,\n",
    "                                pertubed_sv_image_dataloader,\n",
    "                                balance_loss, num_epochs=50, n_sources=3, need_plot=True)"
   ]
  },
  {
   "cell_type": "code",
   "execution_count": null,
   "id": "0e78c697",
   "metadata": {},
   "outputs": [],
   "source": [
    "plt.plot(loss_train)"
   ]
  },
  {
   "cell_type": "code",
   "execution_count": null,
   "id": "b53298c9",
   "metadata": {},
   "outputs": [],
   "source": [
    "import torch\n",
    "torch.save(model.state_dict(), \"results/models_weights/9_samson_simple_perturbed_patches.pth\")"
   ]
  }
 ],
 "metadata": {
  "kernelspec": {
   "display_name": "Python 3 (ipykernel)",
   "language": "python",
   "name": "python3"
  },
  "language_info": {
   "codemirror_mode": {
    "name": "ipython",
    "version": 3
   },
   "file_extension": ".py",
   "mimetype": "text/x-python",
   "name": "python",
   "nbconvert_exporter": "python",
   "pygments_lexer": "ipython3",
   "version": "3.8.8"
  },
  "varInspector": {
   "cols": {
    "lenName": 16,
    "lenType": 16,
    "lenVar": 40
   },
   "kernels_config": {
    "python": {
     "delete_cmd_postfix": "",
     "delete_cmd_prefix": "del ",
     "library": "var_list.py",
     "varRefreshCmd": "print(var_dic_list())"
    },
    "r": {
     "delete_cmd_postfix": ") ",
     "delete_cmd_prefix": "rm(",
     "library": "var_list.r",
     "varRefreshCmd": "cat(var_dic_list()) "
    }
   },
   "types_to_exclude": [
    "module",
    "function",
    "builtin_function_or_method",
    "instance",
    "_Feature"
   ],
   "window_display": false
  }
 },
 "nbformat": 4,
 "nbformat_minor": 5
}
